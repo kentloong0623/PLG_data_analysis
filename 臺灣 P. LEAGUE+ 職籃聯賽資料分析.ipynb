{
 "cells": [
  {
   "cell_type": "markdown",
   "id": "2776f602-3c0f-4790-9b37-8fb377a894a0",
   "metadata": {},
   "source": [
    "# 臺灣 P. LEAGUE+ 職籃聯賽資料分析 (Kent)\n",
    "\n",
    "此專案旨在從臺灣 P. LEAGUE+ 職籃聯賽官網抓取每個球隊的比賽數據，並分析各球隊的主場和客場勝率，最後在地圖上展示各球隊的主場資訊及客場對戰勝率。"
   ]
  },
  {
   "cell_type": "markdown",
   "id": "2bd82f33-4fbd-47eb-88dd-6d4ebabafb47",
   "metadata": {
    "tags": []
   },
   "source": [
    "## 引入必要的套件\n",
    "首先引入必要的套件：requests 用於發送 HTTP 請求，BeautifulSoup 用於解析 HTML，UserAgent 用於生成隨機的用戶代理，pandas 用於數據處理。"
   ]
  },
  {
   "cell_type": "code",
   "execution_count": 2,
   "id": "a49d7869-e508-4551-b773-b88186198e6b",
   "metadata": {
    "tags": []
   },
   "outputs": [],
   "source": [
    "import requests\n",
    "from bs4 import BeautifulSoup\n",
    "from fake_useragent import UserAgent\n",
    "import pandas as pd"
   ]
  },
  {
   "cell_type": "markdown",
   "id": "3813a5c0-bf0e-4b44-a50e-b45691cd8e42",
   "metadata": {},
   "source": [
    "## 設定隨機用戶代理\n",
    "生成一個隨機的用戶代理來模擬瀏覽器，防止被網站封鎖。"
   ]
  },
  {
   "cell_type": "code",
   "execution_count": 4,
   "id": "81b8efbc-5bf7-44f7-957f-92e154219cd5",
   "metadata": {
    "tags": []
   },
   "outputs": [],
   "source": [
    "ua = UserAgent()\n",
    "headers = {'User-Agent': ua.random}"
   ]
  },
  {
   "cell_type": "markdown",
   "id": "1819eb93-0422-40e2-a2cd-801215410dea",
   "metadata": {
    "tags": []
   },
   "source": [
    "## 抓取球隊比賽數據\n",
    "透過迴圈抓取各球隊的比賽數據，並解析 HTML 內容以提取表格數據，存儲在 team_data 字典中。"
   ]
  },
  {
   "cell_type": "code",
   "execution_count": null,
   "id": "80b5efc1-88c4-43ea-9339-cc85d02d3305",
   "metadata": {
    "tags": []
   },
   "outputs": [
    {
     "name": "stderr",
     "output_type": "stream",
     "text": [
      "/var/folders/s8/9h__9v7553sfs6zhg2wny9d80000gn/T/ipykernel_7631/2715663186.py:16: FutureWarning: Passing literal html to 'read_html' is deprecated and will be removed in a future version. To read from a literal string, wrap it in a 'StringIO' object.\n",
      "  team_df = pd.read_html(str(tables), encoding='utf-8')[1]  # Select the first table, may need adjustment based on webpage structure\n",
      "/var/folders/s8/9h__9v7553sfs6zhg2wny9d80000gn/T/ipykernel_7631/2715663186.py:16: FutureWarning: Passing literal html to 'read_html' is deprecated and will be removed in a future version. To read from a literal string, wrap it in a 'StringIO' object.\n",
      "  team_df = pd.read_html(str(tables), encoding='utf-8')[1]  # Select the first table, may need adjustment based on webpage structure\n",
      "/var/folders/s8/9h__9v7553sfs6zhg2wny9d80000gn/T/ipykernel_7631/2715663186.py:16: FutureWarning: Passing literal html to 'read_html' is deprecated and will be removed in a future version. To read from a literal string, wrap it in a 'StringIO' object.\n",
      "  team_df = pd.read_html(str(tables), encoding='utf-8')[1]  # Select the first table, may need adjustment based on webpage structure\n",
      "/var/folders/s8/9h__9v7553sfs6zhg2wny9d80000gn/T/ipykernel_7631/2715663186.py:16: FutureWarning: Passing literal html to 'read_html' is deprecated and will be removed in a future version. To read from a literal string, wrap it in a 'StringIO' object.\n",
      "  team_df = pd.read_html(str(tables), encoding='utf-8')[1]  # Select the first table, may need adjustment based on webpage structure\n",
      "/var/folders/s8/9h__9v7553sfs6zhg2wny9d80000gn/T/ipykernel_7631/2715663186.py:16: FutureWarning: Passing literal html to 'read_html' is deprecated and will be removed in a future version. To read from a literal string, wrap it in a 'StringIO' object.\n",
      "  team_df = pd.read_html(str(tables), encoding='utf-8')[1]  # Select the first table, may need adjustment based on webpage structure\n",
      "/var/folders/s8/9h__9v7553sfs6zhg2wny9d80000gn/T/ipykernel_7631/2715663186.py:16: FutureWarning: Passing literal html to 'read_html' is deprecated and will be removed in a future version. To read from a literal string, wrap it in a 'StringIO' object.\n",
      "  team_df = pd.read_html(str(tables), encoding='utf-8')[1]  # Select the first table, may need adjustment based on webpage structure\n"
     ]
    }
   ],
   "source": [
    "# Create an empty dictionary to store the table data for each team\n",
    "team_data = {}\n",
    "\n",
    "# Loop to get the table data for teams 1 to 6\n",
    "for team_number in range(1, 7):\n",
    "    # Construct the URL\n",
    "    url = f'https://pleagueofficial.com/team/{team_number}/2023-24/#team_record'\n",
    "    # Get the webpage content\n",
    "    response = requests.get(url, headers=headers)\n",
    "    html_content = response.content\n",
    "    # Parse the HTML content\n",
    "    soup = BeautifulSoup(html_content, 'html.parser', from_encoding='utf-8')\n",
    "    # Find all tables on the page\n",
    "    tables = soup.find_all('table')\n",
    "    # Read the table into a pandas DataFrame\n",
    "    team_df = pd.read_html(str(tables), encoding='utf-8')[1]  # Select the first table, may need adjustment based on webpage structure\n",
    "    # Store the table data of each team in the team_data dictionary\n",
    "    team_data[f'Team_{team_number}'] = team_df"
   ]
  },
  {
   "cell_type": "code",
   "execution_count": 8,
   "id": "59c932bc-ae11-43d7-b93c-411b74a38f06",
   "metadata": {
    "tags": []
   },
   "outputs": [
    {
     "data": {
      "text/html": [
       "<div>\n",
       "<style scoped>\n",
       "    .dataframe tbody tr th:only-of-type {\n",
       "        vertical-align: middle;\n",
       "    }\n",
       "\n",
       "    .dataframe tbody tr th {\n",
       "        vertical-align: top;\n",
       "    }\n",
       "\n",
       "    .dataframe thead th {\n",
       "        text-align: right;\n",
       "    }\n",
       "</style>\n",
       "<table border=\"1\" class=\"dataframe\">\n",
       "  <thead>\n",
       "    <tr style=\"text-align: right;\">\n",
       "      <th></th>\n",
       "      <th>比賽日期</th>\n",
       "      <th>對手</th>\n",
       "      <th>分數</th>\n",
       "      <th>二分</th>\n",
       "      <th>二分%</th>\n",
       "      <th>三分</th>\n",
       "      <th>三分%</th>\n",
       "      <th>罰球</th>\n",
       "      <th>罰球%</th>\n",
       "      <th>得分</th>\n",
       "      <th>籃板</th>\n",
       "      <th>助攻</th>\n",
       "      <th>失誤</th>\n",
       "      <th>抄截</th>\n",
       "      <th>阻攻</th>\n",
       "      <th>犯規</th>\n",
       "    </tr>\n",
       "  </thead>\n",
       "  <tbody>\n",
       "    <tr>\n",
       "      <th>0</th>\n",
       "      <td>2023-11-11</td>\n",
       "      <td>臺北富邦勇士</td>\n",
       "      <td>96W - 89</td>\n",
       "      <td>21 - 48</td>\n",
       "      <td>43.75</td>\n",
       "      <td>14 - 42</td>\n",
       "      <td>33.33</td>\n",
       "      <td>12 - 15</td>\n",
       "      <td>80.00</td>\n",
       "      <td>96</td>\n",
       "      <td>51</td>\n",
       "      <td>25</td>\n",
       "      <td>20</td>\n",
       "      <td>16</td>\n",
       "      <td>6</td>\n",
       "      <td>13</td>\n",
       "    </tr>\n",
       "    <tr>\n",
       "      <th>1</th>\n",
       "      <td>2023-11-18</td>\n",
       "      <td>新竹御頂攻城獅</td>\n",
       "      <td>87 - 111W</td>\n",
       "      <td>35 - 56</td>\n",
       "      <td>62.50</td>\n",
       "      <td>8 - 38</td>\n",
       "      <td>21.05</td>\n",
       "      <td>17 - 26</td>\n",
       "      <td>65.38</td>\n",
       "      <td>111</td>\n",
       "      <td>48</td>\n",
       "      <td>26</td>\n",
       "      <td>12</td>\n",
       "      <td>14</td>\n",
       "      <td>2</td>\n",
       "      <td>19</td>\n",
       "    </tr>\n",
       "    <tr>\n",
       "      <th>2</th>\n",
       "      <td>2023-11-19</td>\n",
       "      <td>桃園璞園領航猿</td>\n",
       "      <td>113 - 123W</td>\n",
       "      <td>28 - 45</td>\n",
       "      <td>62.22</td>\n",
       "      <td>16 - 43</td>\n",
       "      <td>37.21</td>\n",
       "      <td>19 - 24</td>\n",
       "      <td>79.17</td>\n",
       "      <td>123</td>\n",
       "      <td>48</td>\n",
       "      <td>32</td>\n",
       "      <td>13</td>\n",
       "      <td>12</td>\n",
       "      <td>2</td>\n",
       "      <td>21</td>\n",
       "    </tr>\n",
       "    <tr>\n",
       "      <th>3</th>\n",
       "      <td>2023-11-25</td>\n",
       "      <td>桃園璞園領航猿</td>\n",
       "      <td>92 - 98W</td>\n",
       "      <td>28 - 49</td>\n",
       "      <td>57.14</td>\n",
       "      <td>9 - 28</td>\n",
       "      <td>32.14</td>\n",
       "      <td>15 - 19</td>\n",
       "      <td>78.95</td>\n",
       "      <td>98</td>\n",
       "      <td>50</td>\n",
       "      <td>16</td>\n",
       "      <td>20</td>\n",
       "      <td>5</td>\n",
       "      <td>4</td>\n",
       "      <td>22</td>\n",
       "    </tr>\n",
       "    <tr>\n",
       "      <th>4</th>\n",
       "      <td>2023-11-26</td>\n",
       "      <td>高雄17直播鋼鐵人</td>\n",
       "      <td>93 - 109W</td>\n",
       "      <td>26 - 50</td>\n",
       "      <td>52.00</td>\n",
       "      <td>16 - 37</td>\n",
       "      <td>43.24</td>\n",
       "      <td>9 - 10</td>\n",
       "      <td>90.00</td>\n",
       "      <td>109</td>\n",
       "      <td>50</td>\n",
       "      <td>26</td>\n",
       "      <td>15</td>\n",
       "      <td>7</td>\n",
       "      <td>2</td>\n",
       "      <td>17</td>\n",
       "    </tr>\n",
       "  </tbody>\n",
       "</table>\n",
       "</div>"
      ],
      "text/plain": [
       "         比賽日期         對手          分數       二分    二分%       三分    三分%       罰球  \\\n",
       "0  2023-11-11     臺北富邦勇士    96W - 89  21 - 48  43.75  14 - 42  33.33  12 - 15   \n",
       "1  2023-11-18    新竹御頂攻城獅   87 - 111W  35 - 56  62.50   8 - 38  21.05  17 - 26   \n",
       "2  2023-11-19    桃園璞園領航猿  113 - 123W  28 - 45  62.22  16 - 43  37.21  19 - 24   \n",
       "3  2023-11-25    桃園璞園領航猿    92 - 98W  28 - 49  57.14   9 - 28  32.14  15 - 19   \n",
       "4  2023-11-26  高雄17直播鋼鐵人   93 - 109W  26 - 50  52.00  16 - 37  43.24   9 - 10   \n",
       "\n",
       "     罰球%   得分  籃板  助攻  失誤  抄截  阻攻  犯規  \n",
       "0  80.00   96  51  25  20  16   6  13  \n",
       "1  65.38  111  48  26  12  14   2  19  \n",
       "2  79.17  123  48  32  13  12   2  21  \n",
       "3  78.95   98  50  16  20   5   4  22  \n",
       "4  90.00  109  50  26  15   7   2  17  "
      ]
     },
     "execution_count": 8,
     "metadata": {},
     "output_type": "execute_result"
    }
   ],
   "source": [
    "team_df.head(5)"
   ]
  },
  {
   "cell_type": "markdown",
   "id": "2deef480-8488-46c7-bd6f-2a3873edd03c",
   "metadata": {
    "tags": []
   },
   "source": [
    "## 資料處理\n",
    "將每個球隊的數據存儲在單獨的 DataFrame 中，並組織成一個包含各球隊資訊的列表 teamlist，並且把不需要的欄位給移除。"
   ]
  },
  {
   "cell_type": "code",
   "execution_count": 10,
   "id": "25469526-d9bc-4fb6-b070-3a82df24cafd",
   "metadata": {
    "tags": []
   },
   "outputs": [
    {
     "data": {
      "text/html": [
       "<div>\n",
       "<style scoped>\n",
       "    .dataframe tbody tr th:only-of-type {\n",
       "        vertical-align: middle;\n",
       "    }\n",
       "\n",
       "    .dataframe tbody tr th {\n",
       "        vertical-align: top;\n",
       "    }\n",
       "\n",
       "    .dataframe thead th {\n",
       "        text-align: right;\n",
       "    }\n",
       "</style>\n",
       "<table border=\"1\" class=\"dataframe\">\n",
       "  <thead>\n",
       "    <tr style=\"text-align: right;\">\n",
       "      <th></th>\n",
       "      <th>比賽日期</th>\n",
       "      <th>對手</th>\n",
       "      <th>分數</th>\n",
       "      <th>二分</th>\n",
       "      <th>二分%</th>\n",
       "      <th>三分</th>\n",
       "      <th>三分%</th>\n",
       "      <th>罰球</th>\n",
       "      <th>罰球%</th>\n",
       "      <th>得分</th>\n",
       "      <th>籃板</th>\n",
       "      <th>助攻</th>\n",
       "      <th>失誤</th>\n",
       "      <th>抄截</th>\n",
       "      <th>阻攻</th>\n",
       "      <th>犯規</th>\n",
       "    </tr>\n",
       "  </thead>\n",
       "  <tbody>\n",
       "    <tr>\n",
       "      <th>0</th>\n",
       "      <td>2023-11-11</td>\n",
       "      <td>新北國王</td>\n",
       "      <td>96 - 89L</td>\n",
       "      <td>26 - 54</td>\n",
       "      <td>48.15</td>\n",
       "      <td>10 - 24</td>\n",
       "      <td>41.67</td>\n",
       "      <td>7 - 10</td>\n",
       "      <td>70.00</td>\n",
       "      <td>89</td>\n",
       "      <td>48</td>\n",
       "      <td>17</td>\n",
       "      <td>26</td>\n",
       "      <td>10</td>\n",
       "      <td>4</td>\n",
       "      <td>17</td>\n",
       "    </tr>\n",
       "    <tr>\n",
       "      <th>1</th>\n",
       "      <td>2023-11-12</td>\n",
       "      <td>高雄17直播鋼鐵人</td>\n",
       "      <td>94 - 115W</td>\n",
       "      <td>32 - 59</td>\n",
       "      <td>54.24</td>\n",
       "      <td>10 - 30</td>\n",
       "      <td>33.33</td>\n",
       "      <td>21 - 24</td>\n",
       "      <td>87.50</td>\n",
       "      <td>115</td>\n",
       "      <td>48</td>\n",
       "      <td>30</td>\n",
       "      <td>9</td>\n",
       "      <td>11</td>\n",
       "      <td>6</td>\n",
       "      <td>22</td>\n",
       "    </tr>\n",
       "    <tr>\n",
       "      <th>2</th>\n",
       "      <td>2023-11-19</td>\n",
       "      <td>福爾摩沙夢想家</td>\n",
       "      <td>86L - 89</td>\n",
       "      <td>21 - 48</td>\n",
       "      <td>43.75</td>\n",
       "      <td>11 - 33</td>\n",
       "      <td>33.33</td>\n",
       "      <td>11 - 17</td>\n",
       "      <td>64.71</td>\n",
       "      <td>86</td>\n",
       "      <td>47</td>\n",
       "      <td>22</td>\n",
       "      <td>16</td>\n",
       "      <td>10</td>\n",
       "      <td>1</td>\n",
       "      <td>20</td>\n",
       "    </tr>\n",
       "    <tr>\n",
       "      <th>3</th>\n",
       "      <td>2023-11-26</td>\n",
       "      <td>新竹御頂攻城獅</td>\n",
       "      <td>99W - 84</td>\n",
       "      <td>27 - 48</td>\n",
       "      <td>56.25</td>\n",
       "      <td>11 - 30</td>\n",
       "      <td>36.67</td>\n",
       "      <td>12 - 16</td>\n",
       "      <td>75.00</td>\n",
       "      <td>99</td>\n",
       "      <td>49</td>\n",
       "      <td>26</td>\n",
       "      <td>19</td>\n",
       "      <td>7</td>\n",
       "      <td>5</td>\n",
       "      <td>16</td>\n",
       "    </tr>\n",
       "    <tr>\n",
       "      <th>4</th>\n",
       "      <td>2023-12-02</td>\n",
       "      <td>福爾摩沙夢想家</td>\n",
       "      <td>76L - 90</td>\n",
       "      <td>20 - 48</td>\n",
       "      <td>41.67</td>\n",
       "      <td>9 - 38</td>\n",
       "      <td>23.68</td>\n",
       "      <td>9 - 14</td>\n",
       "      <td>64.29</td>\n",
       "      <td>76</td>\n",
       "      <td>48</td>\n",
       "      <td>15</td>\n",
       "      <td>11</td>\n",
       "      <td>5</td>\n",
       "      <td>2</td>\n",
       "      <td>20</td>\n",
       "    </tr>\n",
       "  </tbody>\n",
       "</table>\n",
       "</div>"
      ],
      "text/plain": [
       "         比賽日期         對手         分數       二分    二分%       三分    三分%       罰球  \\\n",
       "0  2023-11-11       新北國王   96 - 89L  26 - 54  48.15  10 - 24  41.67   7 - 10   \n",
       "1  2023-11-12  高雄17直播鋼鐵人  94 - 115W  32 - 59  54.24  10 - 30  33.33  21 - 24   \n",
       "2  2023-11-19    福爾摩沙夢想家   86L - 89  21 - 48  43.75  11 - 33  33.33  11 - 17   \n",
       "3  2023-11-26    新竹御頂攻城獅   99W - 84  27 - 48  56.25  11 - 30  36.67  12 - 16   \n",
       "4  2023-12-02    福爾摩沙夢想家   76L - 90  20 - 48  41.67   9 - 38  23.68   9 - 14   \n",
       "\n",
       "     罰球%   得分  籃板  助攻  失誤  抄截  阻攻  犯規  \n",
       "0  70.00   89  48  17  26  10   4  17  \n",
       "1  87.50  115  48  30   9  11   6  22  \n",
       "2  64.71   86  47  22  16  10   1  20  \n",
       "3  75.00   99  49  26  19   7   5  16  \n",
       "4  64.29   76  48  15  11   5   2  20  "
      ]
     },
     "execution_count": 10,
     "metadata": {},
     "output_type": "execute_result"
    }
   ],
   "source": [
    "# Store each team's data in separate DataFrames\n",
    "fubonBrave_df = team_data['Team_1']\n",
    "taoyuanPilot_df = team_data['Team_2']\n",
    "hsinchuLioneers_df = team_data['Team_3']\n",
    "formosaDreamers_df = team_data['Team_4']\n",
    "kaosiungSteelers_df = team_data['Team_5']\n",
    "newtaipeiKings_df = team_data['Team_6']\n",
    "\n",
    "teamlist = [\n",
    "    {'隊伍': '臺北富邦勇士', '主客場_df': fubonBrave_df},\n",
    "    {'隊伍': '桃園璞園領航猿', '主客場_df': taoyuanPilot_df},\n",
    "    {'隊伍': '新竹御頂攻城獅', '主客場_df': hsinchuLioneers_df},\n",
    "    {'隊伍': '福爾摩沙夢想家', '主客場_df': formosaDreamers_df},\n",
    "    {'隊伍': '高雄17直播鋼鐵人', '主客場_df': kaosiungSteelers_df},\n",
    "    {'隊伍': '新北國王', '主客場_df': newtaipeiKings_df}\n",
    "]\n",
    "\n",
    "fubonBrave_df.head(5)"
   ]
  },
  {
   "cell_type": "code",
   "execution_count": 12,
   "id": "7bd0d90e-4773-43c2-b339-2efc5a380fcc",
   "metadata": {
    "tags": []
   },
   "outputs": [],
   "source": [
    "# Preparing the data for a specific analysis where these statistics are not needed\n",
    "columns_to_drop = ['二分%', '二分', '三分', '三分%', '罰球', '罰球%', '得分', '籃板', '助攻', '失誤', '抄截', '阻攻', '犯規']"
   ]
  },
  {
   "cell_type": "markdown",
   "id": "3d5a939f-0341-4ed7-b032-9b94d6009efd",
   "metadata": {
    "tags": []
   },
   "source": [
    "## 定義輔助函數\n",
    "定義輔助函數以計算比賽結果和勝率，包括 classify_score 用於分類比賽結果，calculate_home_win_rate 和 calculate_away_win_rate 用於計算主場和客場勝率。"
   ]
  },
  {
   "cell_type": "code",
   "execution_count": 14,
   "id": "de1a436b-fb78-40a3-8550-4c69c1b44560",
   "metadata": {
    "tags": []
   },
   "outputs": [],
   "source": [
    "def classify_score(score):\n",
    "    # Classify the game result based on the score string\n",
    "    if score == ' - L':\n",
    "        return '主場輸' # If the score is ' - L', it indicates a home loss\n",
    "    elif score == ' - W':\n",
    "        return '主場贏' # If the score is ' - W', it indicates a home win\n",
    "    elif score == 'L - ':\n",
    "        return '客場輸' # If the score is 'L - ', it indicates an away loss\n",
    "    elif score == 'W - ':\n",
    "        return '客場贏' # If the score is 'W - ', it indicates an away win\n",
    "    else:\n",
    "        return '未知' # For other cases, return 'Unknown'\n",
    "\n",
    "def calculate_home_win_rate(df):\n",
    "    # Filter out home games\n",
    "    home_games = df[df['比賽結果'].isin(['主場贏', '主場輸'])]\n",
    "    # Count the number of home wins\n",
    "    home_wins = home_games[home_games['比賽結果'] == '主場贏'].shape[0]\n",
    "    # Count the total number of home games\n",
    "    total_home_games = home_games.shape[0]\n",
    "    # If there are no home games, return 0\n",
    "    if total_home_games == 0:\n",
    "        return 0\n",
    "    # Calculate the home win rate\n",
    "    return home_wins / total_home_games\n",
    "\n",
    "def calculate_away_win_rate(df):\n",
    "    # Filter out away games\n",
    "    away_games = df[df['比賽結果'].isin(['客場贏', '客場輸'])]\n",
    "    # Count the number of away wins\n",
    "    away_wins = away_games[away_games['比賽結果'] == '客場贏'].shape[0]\n",
    "    # Count the total number of away games\n",
    "    total_away_games = away_games.shape[0]\n",
    "    # If there are no away games, return 0\n",
    "    if total_away_games == 0:\n",
    "        return 0\n",
    "    # Calculate the away win rate\n",
    "    return away_wins / total_away_games"
   ]
  },
  {
   "cell_type": "markdown",
   "id": "98c99dba-ab9f-4eca-87cb-e9aceb164445",
   "metadata": {},
   "source": [
    "## 分析並且print出勝率\n",
    "分析各球隊的數據，計算並打印主場和客場勝率，將結果存儲在 data 字典中。"
   ]
  },
  {
   "cell_type": "code",
   "execution_count": 16,
   "id": "7febd7aa-89d0-4611-9975-26cade51068e",
   "metadata": {
    "tags": []
   },
   "outputs": [
    {
     "name": "stdout",
     "output_type": "stream",
     "text": [
      "臺北富邦勇士 主場總勝率: 55.00%\n",
      "臺北富邦勇士 客場總勝率: 35.00%\n",
      "桃園璞園領航猿 主場總勝率: 75.00%\n",
      "桃園璞園領航猿 客場總勝率: 55.00%\n",
      "新竹御頂攻城獅 主場總勝率: 60.00%\n",
      "新竹御頂攻城獅 客場總勝率: 45.00%\n",
      "福爾摩沙夢想家 主場總勝率: 75.00%\n",
      "福爾摩沙夢想家 客場總勝率: 45.00%\n",
      "高雄17直播鋼鐵人 主場總勝率: 25.00%\n",
      "高雄17直播鋼鐵人 客場總勝率: 20.00%\n",
      "新北國王 主場總勝率: 50.00%\n",
      "新北國王 客場總勝率: 60.00%\n"
     ]
    }
   ],
   "source": [
    "# Initialize an empty dictionary to store the data\n",
    "data = {'球隊名稱': [], '主場總勝率': [], '客場總勝率': []}\n",
    "\n",
    "# Iterate through each team in the team list\n",
    "for team in teamlist:\n",
    "    df = team['主客場_df']\n",
    "    df['比賽日期'] = pd.to_datetime(df['比賽日期'], format='%Y-%m-%d', errors='coerce')\n",
    "    df.drop(columns_to_drop, axis=1, inplace=True)\n",
    "    df[['客場', '主場']] = df['分數'].str.extract(r'(\\d+)\\D+(\\d+)')\n",
    "    df['分數'] = df['分數'].str.replace(r'\\d+', '', regex=True)\n",
    "    df['比賽結果'] = df['分數'].str.replace(r'\\d+', '').apply(classify_score)\n",
    "    home_win_rate = calculate_home_win_rate(df)\n",
    "    print(f\"{team['隊伍']}\", f\"主場總勝率: {home_win_rate:.2%}\")\n",
    "    away_win_rate = calculate_away_win_rate(df)\n",
    "    print(f\"{team['隊伍']}\", f\"客場總勝率: {away_win_rate:.2%}\")\n",
    "    # Append the results to the data dictionary\n",
    "    data['球隊名稱'].append(team['隊伍'])\n",
    "    data['主場總勝率'].append(home_win_rate)\n",
    "    data['客場總勝率'].append(away_win_rate)"
   ]
  },
  {
   "cell_type": "code",
   "execution_count": 18,
   "id": "f527d076-8780-41bc-aa06-cbd47fb306d8",
   "metadata": {
    "tags": []
   },
   "outputs": [
    {
     "data": {
      "text/html": [
       "<div>\n",
       "<style scoped>\n",
       "    .dataframe tbody tr th:only-of-type {\n",
       "        vertical-align: middle;\n",
       "    }\n",
       "\n",
       "    .dataframe tbody tr th {\n",
       "        vertical-align: top;\n",
       "    }\n",
       "\n",
       "    .dataframe thead th {\n",
       "        text-align: right;\n",
       "    }\n",
       "</style>\n",
       "<table border=\"1\" class=\"dataframe\">\n",
       "  <thead>\n",
       "    <tr style=\"text-align: right;\">\n",
       "      <th></th>\n",
       "      <th>比賽日期</th>\n",
       "      <th>對手</th>\n",
       "      <th>分數</th>\n",
       "      <th>客場</th>\n",
       "      <th>主場</th>\n",
       "      <th>比賽結果</th>\n",
       "    </tr>\n",
       "  </thead>\n",
       "  <tbody>\n",
       "    <tr>\n",
       "      <th>0</th>\n",
       "      <td>2023-11-11</td>\n",
       "      <td>新北國王</td>\n",
       "      <td>- L</td>\n",
       "      <td>96</td>\n",
       "      <td>89</td>\n",
       "      <td>主場輸</td>\n",
       "    </tr>\n",
       "    <tr>\n",
       "      <th>1</th>\n",
       "      <td>2023-11-12</td>\n",
       "      <td>高雄17直播鋼鐵人</td>\n",
       "      <td>- W</td>\n",
       "      <td>94</td>\n",
       "      <td>115</td>\n",
       "      <td>主場贏</td>\n",
       "    </tr>\n",
       "    <tr>\n",
       "      <th>2</th>\n",
       "      <td>2023-11-19</td>\n",
       "      <td>福爾摩沙夢想家</td>\n",
       "      <td>L -</td>\n",
       "      <td>86</td>\n",
       "      <td>89</td>\n",
       "      <td>客場輸</td>\n",
       "    </tr>\n",
       "    <tr>\n",
       "      <th>3</th>\n",
       "      <td>2023-11-26</td>\n",
       "      <td>新竹御頂攻城獅</td>\n",
       "      <td>W -</td>\n",
       "      <td>99</td>\n",
       "      <td>84</td>\n",
       "      <td>客場贏</td>\n",
       "    </tr>\n",
       "    <tr>\n",
       "      <th>4</th>\n",
       "      <td>2023-12-02</td>\n",
       "      <td>福爾摩沙夢想家</td>\n",
       "      <td>L -</td>\n",
       "      <td>76</td>\n",
       "      <td>90</td>\n",
       "      <td>客場輸</td>\n",
       "    </tr>\n",
       "  </tbody>\n",
       "</table>\n",
       "</div>"
      ],
      "text/plain": [
       "        比賽日期         對手    分數  客場   主場 比賽結果\n",
       "0 2023-11-11       新北國王   - L  96   89  主場輸\n",
       "1 2023-11-12  高雄17直播鋼鐵人   - W  94  115  主場贏\n",
       "2 2023-11-19    福爾摩沙夢想家  L -   86   89  客場輸\n",
       "3 2023-11-26    新竹御頂攻城獅  W -   99   84  客場贏\n",
       "4 2023-12-02    福爾摩沙夢想家  L -   76   90  客場輸"
      ]
     },
     "execution_count": 18,
     "metadata": {},
     "output_type": "execute_result"
    }
   ],
   "source": [
    "fubonBrave_df.head(5) # After removing redundant columns"
   ]
  },
  {
   "cell_type": "markdown",
   "id": "6c96350d-9acc-48f9-84e3-a5011bff885c",
   "metadata": {},
   "source": [
    "## 進一步分析客場對戰數據\n",
    "分析各球隊的客場對戰數據，並存儲在相應的 DataFrame 中。"
   ]
  },
  {
   "cell_type": "code",
   "execution_count": 20,
   "id": "7caae2e1-db42-4ac2-8ff7-1b00b199d737",
   "metadata": {
    "tags": []
   },
   "outputs": [],
   "source": [
    "for i in range(len(teamlist)):\n",
    "    home_team = teamlist[i]['隊伍']\n",
    "    for j in range(len(teamlist)):\n",
    "        if i != j:  # Ensure it's not the same team\n",
    "            away_team = teamlist[j]['隊伍']\n",
    "            # Generate filter condition\n",
    "            filter_condition = ((teamlist[i]['主客場_df']['比賽結果'] == '客場贏') | \n",
    "                                (teamlist[i]['主客場_df']['比賽結果'] == '客場輸') &\n",
    "                                (teamlist[i]['主客場_df']['對手'] == away_team))\n",
    "            # Filter the data based on the condition\n",
    "            filtered_df = teamlist[i]['主客場_df'][filter_condition]\n",
    "            # Store the filtered data in teamlist\n",
    "            teamlist[i][f\"{away_team}_客場\"] = filtered_df"
   ]
  },
  {
   "cell_type": "markdown",
   "id": "60aade90-2a10-425b-8f00-848e7f7cfbb4",
   "metadata": {
    "tags": []
   },
   "source": [
    "## 計算每個對手的客場勝率\n",
    "計算每個球隊在客場對戰各對手的勝率，並將結果存儲在 data2 字典中。"
   ]
  },
  {
   "cell_type": "code",
   "execution_count": 22,
   "id": "e7d8c9c4-51be-4729-9f6e-250eac31f16c",
   "metadata": {
    "tags": []
   },
   "outputs": [
    {
     "name": "stdout",
     "output_type": "stream",
     "text": [
      "臺北富邦勇士 客場總勝率: 35.00%\n",
      "  對手: 新北國王, 客場勝率: 75.00%\n",
      "  對手: 新竹御頂攻城獅, 客場勝率: 25.00%\n",
      "  對手: 桃園璞園領航猿, 客場勝率: 0.00%\n",
      "  對手: 福爾摩沙夢想家, 客場勝率: 25.00%\n",
      "  對手: 高雄17直播鋼鐵人, 客場勝率: 50.00%\n",
      "\n",
      "桃園璞園領航猿 客場總勝率: 55.00%\n",
      "  對手: 新北國王, 客場勝率: 25.00%\n",
      "  對手: 新竹御頂攻城獅, 客場勝率: 75.00%\n",
      "  對手: 福爾摩沙夢想家, 客場勝率: 25.00%\n",
      "  對手: 臺北富邦勇士, 客場勝率: 50.00%\n",
      "  對手: 高雄17直播鋼鐵人, 客場勝率: 100.00%\n",
      "\n",
      "新竹御頂攻城獅 客場總勝率: 45.00%\n",
      "  對手: 新北國王, 客場勝率: 75.00%\n",
      "  對手: 桃園璞園領航猿, 客場勝率: 25.00%\n",
      "  對手: 福爾摩沙夢想家, 客場勝率: 25.00%\n",
      "  對手: 臺北富邦勇士, 客場勝率: 50.00%\n",
      "  對手: 高雄17直播鋼鐵人, 客場勝率: 50.00%\n",
      "\n",
      "福爾摩沙夢想家 客場總勝率: 45.00%\n",
      "  對手: 新北國王, 客場勝率: 75.00%\n",
      "  對手: 新竹御頂攻城獅, 客場勝率: 25.00%\n",
      "  對手: 桃園璞園領航猿, 客場勝率: 25.00%\n",
      "  對手: 臺北富邦勇士, 客場勝率: 25.00%\n",
      "  對手: 高雄17直播鋼鐵人, 客場勝率: 75.00%\n",
      "\n",
      "高雄17直播鋼鐵人 客場總勝率: 20.00%\n",
      "  對手: 新北國王, 客場勝率: 0.00%\n",
      "  對手: 新竹御頂攻城獅, 客場勝率: 0.00%\n",
      "  對手: 桃園璞園領航猿, 客場勝率: 50.00%\n",
      "  對手: 福爾摩沙夢想家, 客場勝率: 25.00%\n",
      "  對手: 臺北富邦勇士, 客場勝率: 25.00%\n",
      "\n",
      "新北國王 客場總勝率: 60.00%\n",
      "  對手: 新竹御頂攻城獅, 客場勝率: 75.00%\n",
      "  對手: 桃園璞園領航猿, 客場勝率: 25.00%\n",
      "  對手: 福爾摩沙夢想家, 客場勝率: 25.00%\n",
      "  對手: 臺北富邦勇士, 客場勝率: 75.00%\n",
      "  對手: 高雄17直播鋼鐵人, 客場勝率: 100.00%\n",
      "\n"
     ]
    }
   ],
   "source": [
    "team_names = [\"臺北富邦勇士\", \"桃園璞園領航猿\", \"新竹御頂攻城獅\", \"福爾摩沙夢想家\", \"高雄17直播鋼鐵人\", \"新北國王\"]\n",
    "\n",
    "data2 = {}\n",
    "\n",
    "for i, team_data in enumerate(teamlist):\n",
    "    team_name = team_names[i]\n",
    "    away_df = team_data['主客場_df'][team_data['主客場_df']['比賽結果'].str.contains('客場')]\n",
    "\n",
    "    # Calculate the away win rate for each opponent\n",
    "    grouped = away_df.groupby('對手').agg(\n",
    "        total_games=('比賽結果', 'size'),\n",
    "        wins=('比賽結果', lambda x: (x == '客場贏').sum())\n",
    "    )\n",
    "    grouped['win_rate'] = grouped['wins'] / grouped['total_games']\n",
    "\n",
    "    # Calculate the overall away win rate\n",
    "    total_away_games = away_df.shape[0]\n",
    "    total_away_wins = away_df[away_df['比賽結果'] == '客場贏'].shape[0]\n",
    "    overall_away_win_rate = total_away_wins / total_away_games if total_away_games > 0 else 0\n",
    "\n",
    "    # Print the away win rate for each opponent and the overall away win rate\n",
    "    print(f\"{team_name} 客場總勝率: {overall_away_win_rate:.2%}\")\n",
    "    for opponent, row in grouped.iterrows():\n",
    "        print(f\"  對手: {opponent}, 客場勝率: {row['win_rate']:.2%}\")\n",
    "    print()\n",
    "\n",
    "    data2[team_name] = dict(grouped['win_rate'])"
   ]
  },
  {
   "cell_type": "markdown",
   "id": "6d4a89a7-4a6c-495d-b973-3547a14585f5",
   "metadata": {
    "tags": []
   },
   "source": [
    "## 可視化球隊數據\n",
    "在 teams_info 字典中存儲每個球隊的資訊，包括位置、球館、Logo 及勝率。"
   ]
  },
  {
   "cell_type": "code",
   "execution_count": 24,
   "id": "e4b42eef-7a1a-49b2-89c0-99b72d63cfec",
   "metadata": {
    "tags": []
   },
   "outputs": [],
   "source": [
    "import folium\n",
    "from folium.plugins import MarkerCluster\n",
    "from ipywidgets import interact, widgets\n",
    "from IPython.display import display\n",
    "import pandas as pd\n",
    "from folium.plugins import Fullscreen\n",
    "\n",
    "# Team information\n",
    "teams_info = {\n",
    "    '臺北富邦勇士': {'location': (25.021677286559644, 121.54529485749593), \n",
    "               'arena': '臺北和平籃球館', \n",
    "               'logo1': 'https://upload.wikimedia.org/wikipedia/zh/7/77/%E8%87%BA%E5%8C%97%E5%AF%8C%E9%82%A6%E5%8B%87%E5%A3%AB.png',\n",
    "               'logo2': 'https://i.ytimg.com/vi/Tipu-zyqv9c/maxresdefault.jpg'\n",
    "              },\n",
    "    '桃園璞園領航猿': {'location': (24.995359949673343, 121.32290688472271), \n",
    "                'arena': '桃園市立綜合體育館', \n",
    "                'logo1': 'https://upload.wikimedia.org/wikipedia/zh/4/49/%E6%A1%83%E5%9C%92%E7%92%9E%E5%9C%92%E9%A0%98%E8%88%AA%E7%8C%BF.png',\n",
    "                'logo2':'https://pgw.udn.com.tw/gw/photo.php?u=https://uc.udn.com.tw/photo/2023/11/10/realtime/27048442.jpg&x=0&y=0&sw=0&sh=0&sl=W&fw=800&exp=3600'\n",
    "               },\n",
    "    '新竹御頂攻城獅': {'location': (24.819996484469765, 121.01997695702596),\n",
    "                'arena': '新竹縣體育館', \n",
    "                'logo1': 'https://upload.wikimedia.org/wikipedia/zh/1/16/%E6%96%B0%E7%AB%B9%E5%BE%A1%E9%A0%82%E6%94%BB%E5%9F%8E%E7%8D%85.png',\n",
    "                'logo2':'https://pgw.udn.com.tw/gw/photo.php?u=https://uc.udn.com.tw/photo/2023/12/20/realtime/28408830.jpg&x=0&y=0&sw=0&sh=0&sl=W&fw=800&exp=3600'\n",
    "               },\n",
    "    '福爾摩沙夢想家': {'location': (24.067280946147996, 120.55274162909035), \n",
    "                'arena': '彰化縣立體育館', \n",
    "                'logo1': 'https://upload.wikimedia.org/wikipedia/zh/f/fd/%E7%A6%8F%E7%88%BE%E6%91%A9%E6%B2%99%E5%A4%A2%E6%83%B3%E5%AE%B6.png',\n",
    "                'logo2':'https://shoplineimg.com/5a409e7f9a76f090d40002d6/655206fb55fc1dfb61bd3a80/2600x.webp?source_format=jpg'\n",
    "               },\n",
    "    '高雄17直播鋼鐵人': {'location': (22.621188413947635, 120.3545428111289), \n",
    "                  'arena': '高雄市鳳山體育館', \n",
    "                  'logo1': 'https://upload.wikimedia.org/wikipedia/zh/6/6a/%E9%AB%98%E9%9B%8417%E7%9B%B4%E6%92%AD%E9%8B%BC%E9%90%B5%E4%BA%BA.png',\n",
    "                  'logo2':'https://cdn2.ettoday.net/images/7292/7292105.jpg'\n",
    "                 },\n",
    "    '新北國王': {'location': (25.040589043245653, 121.45183729586284), \n",
    "             'arena': '新北市立新莊體育館', \n",
    "             'logo1': 'https://upload.wikimedia.org/wikipedia/zh/f/ff/%E6%96%B0%E5%8C%97%E5%9C%8B%E7%8E%8B.png',\n",
    "             'logo2':'https://img.sportsv.net/img/article/cover/0/98850/fit-ii3mwKbfNH-945x495.png'\n",
    "            }\n",
    "}\n",
    "\n",
    "win_rates_df = pd.DataFrame(data)\n",
    "\n",
    "for team in teams_info.keys():\n",
    "    row = win_rates_df[win_rates_df['球隊名稱'] == team]\n",
    "    if not row.empty:\n",
    "        teams_info[team]['home_win_rate'] = row['主場總勝率'].values[0]\n",
    "        teams_info[team]['away_win_rate'] = row['客場總勝率'].values[0]"
   ]
  },
  {
   "cell_type": "markdown",
   "id": "6ab98b2f-b589-42c0-b0e8-3ad7a16da5a9",
   "metadata": {},
   "source": [
    "定義函數 show_team_info，根據選擇的球隊在地圖上顯示其主場及客場資訊。"
   ]
  },
  {
   "cell_type": "code",
   "execution_count": 28,
   "id": "0afd20e0-fac8-47de-a492-c117dce6ecc9",
   "metadata": {
    "tags": []
   },
   "outputs": [],
   "source": [
    "# Create the map\n",
    "m = folium.Map(location=[23.7, 121], zoom_start=7, scrollWheelZoom=False)\n",
    "\n",
    "# Create MarkerCluster (to prevent icons from overlapping)\n",
    "marker_cluster = MarkerCluster().add_to(m)\n",
    "\n",
    "# Function to display selected team's info\n",
    "def show_team_info(team):\n",
    "    m_combined = folium.Map(location=[23.7, 121], zoom_start=7, scrollWheelZoom=False)\n",
    "    marker_cluster_combined = MarkerCluster().add_to(m_combined)\n",
    "\n",
    "    # Add home team info\n",
    "    info = teams_info[team]\n",
    "    location = info['location']\n",
    "    popup_content = f\"\"\"\n",
    "    <div style=\"font-size: 12pt;\">\n",
    "    <img src=\"{info['logo2']}\" width=\"250\"><br>\n",
    "    <b>球隊:</b> {team}<br>\n",
    "    <b>球館:</b> {info['arena']}<br>\n",
    "    <b>主場總勝率:</b> {info['home_win_rate']:.2%}<br>\n",
    "    <b>客場總勝率:</b> {info['away_win_rate']:.2%}\n",
    "    \"\"\"\n",
    "    \n",
    "    icon_html = '''\n",
    "    <div style=\"\n",
    "        background: url({url});\n",
    "        background-color: white;\n",
    "        width: 60px; height: 60px;\n",
    "        background-size: cover;\n",
    "        border: 4px solid red;\n",
    "        border-radius: 100%;\">\n",
    "    </div>\n",
    "    '''.format(url=info['logo1'])\n",
    "\n",
    "    # Create custom icon\n",
    "    icon = folium.DivIcon(html=icon_html)\n",
    "    \n",
    "    folium.Marker(location, popup=folium.Popup(popup_content, max_width=500), tooltip=team, icon=icon).add_to(marker_cluster_combined)\n",
    "    \n",
    "    # Add away team info\n",
    "    for other_team, other_location in teams_info.items():\n",
    "        if other_team != team:\n",
    "            away_win_rate = data2[team].get(other_team, None)\n",
    "            if away_win_rate is not None:\n",
    "                other_popup_content = f\"\"\"\n",
    "                <div style=\"font-size: 12pt;\">\n",
    "                <img src=\"{other_location['logo2']}\" width=\"250\"><br>\n",
    "                <b>球隊:</b> {other_team}<br>\n",
    "                <b>球館:</b> {other_location['arena']}<br>\n",
    "                <b>作客此球場勝率:</b> {away_win_rate:.2%}\n",
    "                </div>\n",
    "                \"\"\"\n",
    "                other_icon_html = '''\n",
    "                <div style=\"\n",
    "                    background: url({url});\n",
    "                    background-color: white;\n",
    "                    width: 60px; height: 60px;\n",
    "                    background-size: cover;\n",
    "                    border: 2px solid black;\n",
    "                    border-radius: 80%;\">\n",
    "                </div>\n",
    "                '''.format(url=other_location['logo1'])\n",
    "                other_icon = folium.DivIcon(html=other_icon_html)\n",
    "                folium.Marker(other_location['location'], popup=folium.Popup(other_popup_content, max_width=500), tooltip=other_team, \n",
    "                              icon=other_icon).add_to(marker_cluster_combined)\n",
    "    folium.plugins.MiniMap().add_to(m_combined)\n",
    "    folium.plugins.Fullscreen().add_to(m_combined)\n",
    "    m_combined.get_root().html.add_child(folium.Element(\"\"\"\n",
    "    <div style=\"position:fixed; top:10px; right:10px; z-index:1000; background:white; padding:6px; border:1px solid gray; border-radius:4px;\">\n",
    "        <button onclick=\"window.location.href=window.location.href\">Reset</button>\n",
    "    </div>\n",
    "    \"\"\"))\n",
    "    display(m_combined)"
   ]
  },
  {
   "cell_type": "markdown",
   "id": "dbf010ae-01c7-4d2b-99d4-43b8204b3740",
   "metadata": {
    "tags": []
   },
   "source": [
    "創建一個下拉式選單，讓用戶可以選擇球隊並顯示相應資訊。"
   ]
  },
  {
   "cell_type": "code",
   "execution_count": 30,
   "id": "0f01fed1-7783-4025-92b4-2858ee17c471",
   "metadata": {
    "tags": []
   },
   "outputs": [
    {
     "data": {
      "application/vnd.jupyter.widget-view+json": {
       "model_id": "d24d2ee19a0149fbb78d13b3bf8d9efa",
       "version_major": 2,
       "version_minor": 0
      },
      "text/plain": [
       "interactive(children=(Dropdown(description='選擇球隊:', options=('臺北富邦勇士', '桃園璞園領航猿', '新竹御頂攻城獅', '福爾摩沙夢想家', '高雄17直…"
      ]
     },
     "metadata": {},
     "output_type": "display_data"
    },
    {
     "data": {
      "text/plain": [
       "<function __main__.show_team_info(team)>"
      ]
     },
     "execution_count": 30,
     "metadata": {},
     "output_type": "execute_result"
    }
   ],
   "source": [
    "# Create the interactive widget\n",
    "team_dropdown = widgets.Dropdown(\n",
    "    options=list(teams_info.keys()),\n",
    "    description='選擇球隊:'\n",
    ")\n",
    "\n",
    "interact(show_team_info, team=team_dropdown)"
   ]
  },
  {
   "cell_type": "markdown",
   "id": "292bdc5d-2b12-45c3-9585-f267ea70065a",
   "metadata": {},
   "source": [
    "以上程式碼完整實現了從抓取 職籃聯賽數據、分析數據到在地圖上可視化展⽰結果的過程。"
   ]
  },
  {
   "cell_type": "markdown",
   "id": "d327a11e-22af-43f2-88a3-3425ce7089e7",
   "metadata": {
    "tags": []
   },
   "source": [
    "# 最後，下一頁展示了地圖數據的視覺化結果。"
   ]
  },
  {
   "cell_type": "markdown",
   "id": "ef16c143-837b-4146-9381-f362ac4e86f5",
   "metadata": {},
   "source": [
    "# Reference:   \n",
    "\n",
    "1. [Python map visualization - using Folium](https://blog.yeshuanova.com/2017/10/python-visulization-folium/)\n",
    "2. [Have fun looking at geospatial data! (4) —Folium interactive map](https://medium.com/p/2fc7f72b0eae)\n",
    "3. [Python Folium: Create Web Maps From Your Data](https://realpython.com/python-folium-web-maps-from-data/)\n",
    "4. [NBA Team Map](https://tldrlss.com/article/2023/05/nba-team-map/#google_vignette)\n",
    "5. [Jupyter interactive input (ipywidgets control)](https://blog.csdn.net/ayfen/article/details/120095516)\n",
    "6. [MarkerCluster](https://python-visualization.github.io/folium/latest/user_guide/plugins/marker_cluster.html)"
   ]
  }
 ],
 "metadata": {
  "kernelspec": {
   "display_name": "Python 3 (ipykernel)",
   "language": "python",
   "name": "python3"
  },
  "language_info": {
   "codemirror_mode": {
    "name": "ipython",
    "version": 3
   },
   "file_extension": ".py",
   "mimetype": "text/x-python",
   "name": "python",
   "nbconvert_exporter": "python",
   "pygments_lexer": "ipython3",
   "version": "3.11.5"
  }
 },
 "nbformat": 4,
 "nbformat_minor": 5
}
